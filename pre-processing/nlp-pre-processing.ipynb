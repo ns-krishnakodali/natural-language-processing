{
 "cells": [
  {
   "cell_type": "markdown",
   "metadata": {
    "id": "UN2_RsgmhKbJ"
   },
   "source": [
    "# Setting up the environment"
   ]
  },
  {
   "cell_type": "code",
   "execution_count": 19,
   "metadata": {
    "colab": {
     "background_save": true
    },
    "id": "hzw_XK9eZakK",
    "outputId": "0b6d127e-0879-46bf-c4c3-5971ba68d5ea"
   },
   "outputs": [
    {
     "name": "stdout",
     "output_type": "stream",
     "text": [
      "Collecting en-core-web-md==3.8.0\n",
      "  Downloading https://github.com/explosion/spacy-models/releases/download/en_core_web_md-3.8.0/en_core_web_md-3.8.0-py3-none-any.whl (33.5 MB)\n",
      "\u001b[2K     \u001b[90m━━━━━━━━━━━━━━━━━━━━━━━━━━━━━━━━━━━━━━━━\u001b[0m \u001b[32m33.5/33.5 MB\u001b[0m \u001b[31m48.3 MB/s\u001b[0m eta \u001b[36m0:00:00\u001b[0ma \u001b[36m0:00:01\u001b[0m\n",
      "\u001b[?25h\u001b[38;5;2m✔ Download and installation successful\u001b[0m\n",
      "You can now load the package via spacy.load('en_core_web_md')\n"
     ]
    },
    {
     "data": {
      "text/html": [
       "<script>Jupyter.notebook.kernel.restart()</script>"
      ],
      "text/plain": [
       "<IPython.core.display.HTML object>"
      ]
     },
     "execution_count": 19,
     "metadata": {},
     "output_type": "execute_result"
    }
   ],
   "source": [
    "!python3 -m spacy download en_core_web_md\n",
    "from IPython.core.display import HTML\n",
    "HTML(\"<script>Jupyter.notebook.kernel.restart()</script>\")"
   ]
  },
  {
   "cell_type": "markdown",
   "metadata": {
    "id": "TCoL-XiqaQDd"
   },
   "source": [
    "Getting familiar with the dataset\n",
    "\n",
    "For this project we use **[AG's corpus of news articles](http://groups.di.unipi.it/~gulli/AG_corpus_of_news_articles.html)** which is a collection of more than 1 Million News Articles, extracted from more than 2000 news resources during the duration of 1 year. You are also encouraged to take a look at conventions and concepts associated with processing text corpora in **[Analyzing Text with the Natural Language Toolkit (especially chapter 2)](https://www.nltk.org/book/ch02.html)**, which will be covered in more detail in Project 1.\n",
    "\n",
    "Each article is pre-labeled with one of 4 news categories. This is a balanced dataset with each category containing ~30,000 articles. The news categories are:\n",
    "0. World\n",
    "1. Sports\n",
    "2. Business\n",
    "3. Sci/Tech"
   ]
  },
  {
   "cell_type": "markdown",
   "metadata": {
    "id": "IZMwhnVFhR9y"
   },
   "source": [
    "## Download the dataset"
   ]
  },
  {
   "cell_type": "code",
   "execution_count": 20,
   "metadata": {
    "id": "C_5mAVp9agYd"
   },
   "outputs": [],
   "source": [
    "from datasets import load_dataset\n",
    "import pandas as pd\n",
    "\n",
    "dataset = load_dataset(\"ag_news\")\n",
    "train = dataset.get(\"train\").to_pandas().rename(columns={\"label\": \"category\"})\n",
    "test =  dataset.get(\"test\").to_pandas().rename(columns={\"label\": \"category\"})"
   ]
  },
  {
   "cell_type": "markdown",
   "metadata": {
    "id": "efk1A3Sjal4C"
   },
   "source": [
    "## Explore the dataset"
   ]
  },
  {
   "cell_type": "code",
   "execution_count": 21,
   "metadata": {
    "id": "hG5g0Ub0alNO"
   },
   "outputs": [
    {
     "data": {
      "text/html": [
       "<div>\n",
       "<style scoped>\n",
       "    .dataframe tbody tr th:only-of-type {\n",
       "        vertical-align: middle;\n",
       "    }\n",
       "\n",
       "    .dataframe tbody tr th {\n",
       "        vertical-align: top;\n",
       "    }\n",
       "\n",
       "    .dataframe thead th {\n",
       "        text-align: right;\n",
       "    }\n",
       "</style>\n",
       "<table border=\"1\" class=\"dataframe\">\n",
       "  <thead>\n",
       "    <tr style=\"text-align: right;\">\n",
       "      <th></th>\n",
       "      <th>text</th>\n",
       "      <th>category</th>\n",
       "    </tr>\n",
       "  </thead>\n",
       "  <tbody>\n",
       "    <tr>\n",
       "      <th>0</th>\n",
       "      <td>Wall St. Bears Claw Back Into the Black (Reuters) Reuters - Short-sellers, Wall Street's dwindling\\band of ultra-cynics, are seeing green again.</td>\n",
       "      <td>2</td>\n",
       "    </tr>\n",
       "    <tr>\n",
       "      <th>1</th>\n",
       "      <td>Carlyle Looks Toward Commercial Aerospace (Reuters) Reuters - Private investment firm Carlyle Group,\\which has a reputation for making well-timed and occasionally\\controversial plays in the defense industry, has quietly placed\\its bets on another part of the market.</td>\n",
       "      <td>2</td>\n",
       "    </tr>\n",
       "    <tr>\n",
       "      <th>2</th>\n",
       "      <td>Oil and Economy Cloud Stocks' Outlook (Reuters) Reuters - Soaring crude prices plus worries\\about the economy and the outlook for earnings are expected to\\hang over the stock market next week during the depth of the\\summer doldrums.</td>\n",
       "      <td>2</td>\n",
       "    </tr>\n",
       "    <tr>\n",
       "      <th>3</th>\n",
       "      <td>Iraq Halts Oil Exports from Main Southern Pipeline (Reuters) Reuters - Authorities have halted oil export\\flows from the main pipeline in southern Iraq after\\intelligence showed a rebel militia could strike\\infrastructure, an oil official said on Saturday.</td>\n",
       "      <td>2</td>\n",
       "    </tr>\n",
       "    <tr>\n",
       "      <th>4</th>\n",
       "      <td>Oil prices soar to all-time record, posing new menace to US economy (AFP) AFP - Tearaway world oil prices, toppling records and straining wallets, present a new economic menace barely three months before the US presidential elections.</td>\n",
       "      <td>2</td>\n",
       "    </tr>\n",
       "  </tbody>\n",
       "</table>\n",
       "</div>"
      ],
      "text/plain": [
       "                                                                                                                                                                                                                                                                         text  \\\n",
       "0  Wall St. Bears Claw Back Into the Black (Reuters) Reuters - Short-sellers, Wall Street's dwindling\\band of ultra-cynics, are seeing green again.                                                                                                                             \n",
       "1  Carlyle Looks Toward Commercial Aerospace (Reuters) Reuters - Private investment firm Carlyle Group,\\which has a reputation for making well-timed and occasionally\\controversial plays in the defense industry, has quietly placed\\its bets on another part of the market.   \n",
       "2  Oil and Economy Cloud Stocks' Outlook (Reuters) Reuters - Soaring crude prices plus worries\\about the economy and the outlook for earnings are expected to\\hang over the stock market next week during the depth of the\\summer doldrums.                                     \n",
       "3  Iraq Halts Oil Exports from Main Southern Pipeline (Reuters) Reuters - Authorities have halted oil export\\flows from the main pipeline in southern Iraq after\\intelligence showed a rebel militia could strike\\infrastructure, an oil official said on Saturday.             \n",
       "4  Oil prices soar to all-time record, posing new menace to US economy (AFP) AFP - Tearaway world oil prices, toppling records and straining wallets, present a new economic menace barely three months before the US presidential elections.                                   \n",
       "\n",
       "   category  \n",
       "0  2         \n",
       "1  2         \n",
       "2  2         \n",
       "3  2         \n",
       "4  2         "
      ]
     },
     "execution_count": 21,
     "metadata": {},
     "output_type": "execute_result"
    }
   ],
   "source": [
    "pd.set_option('display.max_colwidth', 0)\n",
    "train.head()"
   ]
  },
  {
   "cell_type": "code",
   "execution_count": 22,
   "metadata": {
    "id": "uSWNdQu4awSY"
   },
   "outputs": [
    {
     "name": "stdout",
     "output_type": "stream",
     "text": [
      "Number of records in the train sample 120000\n",
      "Number of records in the test sample 7600\n"
     ]
    }
   ],
   "source": [
    "#@title Run this code to examine dataset. (Do not edit code.)\n",
    "print(f\"Number of records in the train sample {train.shape[0]}\")\n",
    "print(f\"Number of records in the test sample {test.shape[0]}\")"
   ]
  },
  {
   "cell_type": "markdown",
   "metadata": {
    "id": "B_Y30CZBazdy"
   },
   "source": [
    "### Category distribution for the data\n",
    "\n",
    "**To perform further analysis on the data, execute the commands below to examine the distribution of the four document categories (0 = World; 1 = Sports; 2 = Business; 3 = Sci/Tech).**"
   ]
  },
  {
   "cell_type": "code",
   "execution_count": 23,
   "metadata": {
    "id": "wVn26kAma5bV"
   },
   "outputs": [
    {
     "data": {
      "text/plain": [
       "<Axes: xlabel='category'>"
      ]
     },
     "execution_count": 23,
     "metadata": {},
     "output_type": "execute_result"
    },
    {
     "data": {
      "image/png": "[encoded data removed]",
      "text/plain": [
       "<Figure size 640x480 with 1 Axes>"
      ]
     },
     "metadata": {},
     "output_type": "display_data"
    }
   ],
   "source": [
    "val_counts = train.groupby('category').count().reset_index()\n",
    "val_counts = val_counts.rename(columns = {\"text\": \"Count\"})\n",
    "val_counts.plot(x=\"category\", y=\"Count\", kind=\"bar\")"
   ]
  },
  {
   "cell_type": "markdown",
   "metadata": {
    "id": "BDSqZJCla9s2"
   },
   "source": [
    "We can observe that the categories are equally distributed"
   ]
  },
  {
   "cell_type": "markdown",
   "metadata": {
    "id": "c5Jg3GF8bBDR"
   },
   "source": [
    "### Number of unique tokens\n",
    "A large number of unique tokens (words) exists in natural language, which are extracted through the process of tokenization; the total number of tokens in a corpus is referred to as N."
   ]
  },
  {
   "cell_type": "code",
   "execution_count": 24,
   "metadata": {
    "id": "qbFyLA_wbEKF"
   },
   "outputs": [],
   "source": [
    "def getCounts(df, frac):\n",
    "  result = set()\n",
    "  df = df.sample(frac=frac, random_state=1).reset_index(drop=True)\n",
    "  df['text'].str.lower().str.split().apply(result.update)\n",
    "  return df.shape[0], len(result)\n",
    "\n",
    "counts = {}\n",
    "for frac in range(10, 101, 10):\n",
    "  datasize, unique_count = getCounts(train, frac/100)\n",
    "  counts[datasize] = unique_count"
   ]
  },
  {
   "cell_type": "code",
   "execution_count": 25,
   "metadata": {
    "id": "JdVDN8eHbGoO"
   },
   "outputs": [
    {
     "data": {
      "image/png": "[encoded data removed]",
      "text/plain": [
       "<Figure size 1000x500 with 2 Axes>"
      ]
     },
     "metadata": {},
     "output_type": "display_data"
    }
   ],
   "source": [
    "counts_df = pd.DataFrame(counts.items(), columns=[\"Number of documents\", \"Count of unique tokens\"])\n",
    "\n",
    "ax = counts_df['Count of unique tokens'].plot(secondary_y=True)\n",
    "ax.set_xticks([])\n",
    "\n",
    "ax2 = counts_df.plot(x=\"Number of documents\", y = \"Count of unique tokens\"\n",
    ", kind='bar', ax = ax, figsize=(10,5),  ylabel=\"Count of unique tokens\",\n",
    "xlabel=\"Number of documents\")\n",
    "\n",
    "ax2.get_xaxis().set_visible(True)"
   ]
  },
  {
   "cell_type": "markdown",
   "metadata": {
    "id": "_bsTac-ZbQjo"
   },
   "source": [
    "## Sampling the dataset"
   ]
  },
  {
   "cell_type": "code",
   "execution_count": 26,
   "metadata": {
    "id": "2iU0Shi0bTk2"
   },
   "outputs": [],
   "source": [
    "train = train.sample(frac=0.001, random_state=1).reset_index(drop=True)\n",
    "test = test.sample(frac=0.01, random_state=1).reset_index(drop=True)"
   ]
  },
  {
   "cell_type": "markdown",
   "metadata": {
    "id": "BU0b4bZObXzp"
   },
   "source": [
    "# Text preprocessing\n",
    "\n",
    "To reduce noise in the data, we perform text preprocessing for Natural Language tasks. Below are the implemented preprocessing methods for:\n",
    "\n",
    "1. Tokenization\n",
    "2. Punctuation removal\n",
    "3. Stop word removal  \n",
    "4. Word lemmatization  "
   ]
  },
  {
   "cell_type": "markdown",
   "metadata": {
    "id": "bkg53u3Xhjn2"
   },
   "source": [
    "## Tokenization"
   ]
  },
  {
   "cell_type": "code",
   "execution_count": 27,
   "metadata": {
    "id": "x-iDVQnxbgYy"
   },
   "outputs": [],
   "source": [
    "import spacy\n",
    "import string\n",
    "\n",
    "from spacy.tokens.token import Token\n",
    "from typing import List\n",
    "\n",
    "nlp = spacy.load(\"en_core_web_md\")\n",
    "sample_text = \"These are a series of demos, to show how& to use spacy **for** preprocessing tasks!\""
   ]
  },
  {
   "cell_type": "code",
   "execution_count": 28,
   "metadata": {
    "id": "4KOMS1yKbhfz"
   },
   "outputs": [
    {
     "name": "stdout",
     "output_type": "stream",
     "text": [
      "Sample Text:  These are a series of demos, to show how& to use spacy **for** preprocessing tasks!\n",
      "Tokenizer output:  [These, are, a, series, of, demos, ,, to, show, how, &, to, use, spacy, *, *, for, *, *, preprocessing, tasks, !]\n",
      "Split output:  ['These', 'are', 'a', 'series', 'of', 'demos,', 'to', 'show', 'how&', 'to', 'use', 'spacy', '**for**', 'preprocessing', 'tasks!']\n"
     ]
    }
   ],
   "source": [
    "def tokenize(text: str) -> List[Token]:\n",
    "    \"\"\"\n",
    "    :param text: text as a python string object\n",
    "    :return: a list of objects of type Token\n",
    "    \"\"\"\n",
    "    doc = nlp(text)\n",
    "    return [w for w in doc]\n",
    "\n",
    "print(\"Sample Text: \", sample_text)\n",
    "print(\"Tokenizer output: \", tokenize(sample_text))\n",
    "print(\"Split output: \", sample_text.split(\" \"))"
   ]
  },
  {
   "cell_type": "code",
   "execution_count": 29,
   "metadata": {
    "id": "rsFSJAmDboe7"
   },
   "outputs": [],
   "source": [
    "tokens = tokenize(sample_text)"
   ]
  },
  {
   "cell_type": "markdown",
   "metadata": {
    "id": "r2Mpwc0Ebw_s"
   },
   "source": [
    "## Remove punctuation"
   ]
  },
  {
   "cell_type": "code",
   "execution_count": 32,
   "metadata": {
    "id": "jm_Rr1rKbwZJ"
   },
   "outputs": [
    {
     "name": "stdout",
     "output_type": "stream",
     "text": [
      "!\"#$%&'()*+,-./:;<=>?@[\\]^_`{|}~\n"
     ]
    }
   ],
   "source": [
    "print(string.punctuation)"
   ]
  },
  {
   "cell_type": "code",
   "execution_count": 39,
   "metadata": {
    "id": "0CmHj4OqcAvV"
   },
   "outputs": [],
   "source": [
    "def remove_punctuation(tokens: List[Token]) -> List[Token]:\n",
    "    \"\"\"\n",
    "    :param tokens: a list of objects of type Token\n",
    "    :return: a filtered list of Tokens after removing punctuation\n",
    "    \"\"\"\n",
    "\n",
    "    return [token for token in tokens if token.text not in string.punctuation]\n",
    "    "
   ]
  },
  {
   "cell_type": "code",
   "execution_count": 42,
   "metadata": {
    "id": "vkXtSILScBmw"
   },
   "outputs": [
    {
     "name": "stdout",
     "output_type": "stream",
     "text": [
      "Test Passed!\n"
     ]
    }
   ],
   "source": [
    "def compareLists(tokens1: List[Token], tokens2: List[str]):\n",
    "    set1 = set()\n",
    "    for x in tokens1:\n",
    "        set1.add(x.text)\n",
    "\n",
    "    return not set1.difference(set(tokens2))\n",
    "\n",
    "try:\n",
    "    assert compareLists(remove_punctuation(tokens), ['These', 'are', 'a', 'series', 'of', 'demos', 'to', 'show', 'how', 'to', 'use', 'spacy', 'for', 'preprocessing', 'tasks'])==True\n",
    "    print(\"Test Passed!\")\n",
    "except AssertionError as e:\n",
    "    print(\"Test Failed\", e)"
   ]
  },
  {
   "cell_type": "markdown",
   "metadata": {
    "id": "xeNpFrxBcHFF"
   },
   "source": [
    "## 2.3. Remove stop words\n",
    "\n",
    "Stop words do not contribute much to the accuracy of the models and, in general, operate as noise. Thus, we remove the most frequent words which do not contribute significantly.\n"
   ]
  },
  {
   "cell_type": "code",
   "execution_count": 43,
   "metadata": {
    "id": "izQ9u4qBcSLw"
   },
   "outputs": [],
   "source": [
    "def remove_stop_words(tokens: List[Token]) -> List[Token]:\n",
    "    \"\"\"\n",
    "    :param tokens: a list of objects of type Token\n",
    "    :return: a filtered list of Tokens after removing stopwords\n",
    "    \"\"\"\n",
    "\n",
    "    return [token for token in tokens if not token.is_stop]\n",
    "    "
   ]
  },
  {
   "cell_type": "code",
   "execution_count": 44,
   "metadata": {
    "id": "pzIalmFpcTcN"
   },
   "outputs": [
    {
     "name": "stdout",
     "output_type": "stream",
     "text": [
      "Test Passed!\n"
     ]
    }
   ],
   "source": [
    "try:\n",
    "    assert compareLists(remove_stop_words(tokens), ['spacy', 'use', 'series','!', 'tasks', '&', ',', 'preprocessing', 'demos', '*', '*', '*', '*'])==True\n",
    "    print(\"Test Passed!\")\n",
    "except AssertionError:\n",
    "    print(\"Test Failed\")\n",
    "    raise"
   ]
  },
  {
   "cell_type": "markdown",
   "metadata": {
    "id": "nI89H44JcZ8K"
   },
   "source": [
    "## 2.4. Lemmatize Text\n",
    "\n",
    "Lemmatization in linguistics is the process of grouping together the inflected forms of a word so they can be analysed as a single item, identified by the word's lemma, or dictionary form.\n"
   ]
  },
  {
   "cell_type": "markdown",
   "metadata": {
    "id": "nR4yh9MqcdUX"
   },
   "source": [
    "### 2.4.1 Programming Question #3 (2 points)\n",
    "\n",
    "**Complete the function below for lemmatization (approx 1 to 5 lines of code). (2 points)**\n",
    "\n",
    "<mark>After you have completed the function and executed the tests, make sure to transfer your answer to .py file provided along with this Notebook</mark>"
   ]
  },
  {
   "cell_type": "code",
   "execution_count": 46,
   "metadata": {
    "id": "i5YZeN14cijc"
   },
   "outputs": [],
   "source": [
    "def lemmatize(tokens: List[Token]) -> List[str]:\n",
    "    \"\"\"\n",
    "    :param tokens: a list of objects of type Token\n",
    "    :return: a list of type str, contains lemmatized form\n",
    "    \"\"\"\n",
    "    return [token.lemma_ for token in tokens]"
   ]
  },
  {
   "cell_type": "code",
   "execution_count": 47,
   "metadata": {
    "id": "3hDf5E_YcjnE"
   },
   "outputs": [
    {
     "name": "stdout",
     "output_type": "stream",
     "text": [
      "Test Passed!\n"
     ]
    }
   ],
   "source": [
    "try:\n",
    "    assert not set(lemmatize(tokens)).difference(set(['these', 'be', 'a', 'series', 'of', 'demos', ',', 'to', 'show', 'how', '&', 'to', 'use', 'spacy', '*', '*', 'for', '*', '*', 'preprocessing', 'task', '!']))\n",
    "    print(\"Test Passed!\")\n",
    "except AssertionError:\n",
    "    print(\"Test Failed\")\n",
    "    raise"
   ]
  }
 ],
 "metadata": {
  "colab": {
   "provenance": [
    {
     "file_id": "1hibec1uSf27bwPofCcUpc0mZpTgPYMxX",
     "timestamp": 1694363758862
    },
    {
     "file_id": "1GRlA9oOcrdqdfrbh_9Q8F7mkBIC9aBLM",
     "timestamp": 1662224704108
    }
   ],
   "toc_visible": true
  },
  "kernelspec": {
   "display_name": "Python 3",
   "name": "python3"
  },
  "language_info": {
   "codemirror_mode": {
    "name": "ipython",
    "version": 3
   },
   "file_extension": ".py",
   "mimetype": "text/x-python",
   "name": "python",
   "nbconvert_exporter": "python",
   "pygments_lexer": "ipython3",
   "version": "3.12.5"
  }
 },
 "nbformat": 4,
 "nbformat_minor": 0
}
