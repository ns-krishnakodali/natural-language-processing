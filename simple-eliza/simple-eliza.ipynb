{
 "cells": [
  {
   "cell_type": "markdown",
   "metadata": {
    "id": "bkg53u3Xhjn2"
   },
   "source": [
    "## Simple ELIZA: Use 're' package, no preprocessing.\n"
   ]
  },
  {
   "cell_type": "code",
   "execution_count": 1,
   "metadata": {
    "colab": {
     "base_uri": "https://localhost:8080/",
     "height": 35
    },
    "executionInfo": {
     "elapsed": 5,
     "status": "ok",
     "timestamp": 1661218680201,
     "user": {
      "displayName": "Bonnie Dorr",
      "userId": "05562801915063225516"
     },
     "user_tz": 240
    },
    "id": "2BUCpyhR-efz",
    "outputId": "0c0152f5-02f6-45ee-e55a-be935fe8fadd"
   },
   "outputs": [
    {
     "name": "stdout",
     "output_type": "stream",
     "text": [
      "WHY DO YOU THINK YOU ARE SAD\n"
     ]
    }
   ],
   "source": [
    "import re\n",
    "\n",
    "input = \"I AM SAD\"\n",
    "print(re.sub(\"I AM (DEPRESSED|SAD)\", r\"WHY DO YOU THINK YOU ARE \\1\", input))"
   ]
  }
 ],
 "metadata": {
  "colab": {
   "collapsed_sections": [],
   "name": "Module 1 - Simple ELIZA.ipynb",
   "provenance": [
    {
     "file_id": "1xjr3H9XTRo2hvGujfydeuHg7-qv3wUHh",
     "timestamp": 1661795957645
    },
    {
     "file_id": "1msTh82OLf_yfb8slk1Ok7gM21E_tp3Zp",
     "timestamp": 1661044559328
    },
    {
     "file_id": "1utV1POnGB5QtPlS9rwPjpr-xX3KNB0j9",
     "timestamp": 1661035956481
    }
   ]
  },
  "kernelspec": {
   "display_name": ".venv",
   "language": "python",
   "name": "python3"
  },
  "language_info": {
   "codemirror_mode": {
    "name": "ipython",
    "version": 3
   },
   "file_extension": ".py",
   "mimetype": "text/x-python",
   "name": "python",
   "nbconvert_exporter": "python",
   "pygments_lexer": "ipython3",
   "version": "3.12.7"
  }
 },
 "nbformat": 4,
 "nbformat_minor": 0
}
