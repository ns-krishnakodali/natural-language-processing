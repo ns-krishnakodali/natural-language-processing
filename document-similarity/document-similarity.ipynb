{
  "cells": [
    {
      "cell_type": "markdown",
      "metadata": {
        "id": "_UJN3HMBvlEo"
      },
      "source": [
        "<h1><center><b>Document Similarity</b></center></h1>\n",
        "\n",
        "---\n",
        "\n",
        "# Introduction\n",
        "\n",
        "Exploring Document Similarity in NLP. Computing document similarity involves comparing two documents and assigning a score that indicates the degree of similarity between two documents.\n",
        "\n",
        "Some key use cases of document similarity are:\n",
        "\n",
        "1. Document clustering\n",
        "2. Topic modelling\n",
        "3. Recommendation systems\n",
        "4. Analyzing social media trends\n",
        "\n",
        "This project explores text preprocessing methods, document similarity algorithms, and pre-trained models.\n",
        "\n",
        "- Part 1 sets up the environment through installation of the required dependencies and incorporates a kernel restart once the installation finishes.\n",
        "- Part 2 downloads and explores the dataset.\n",
        "- Part 3 builds text preprocessing methods.\n",
        "- Part 4 finds document similarity using similarity measures. Jaccard Similarity, Cosine distance with Word vectors will be explored here.\n",
        "- Part 5 implements tf-idf vectorization and BERT embeddings to calculate document similarity.\n",
        "- Part 6 concludes with ideas for further study.\n",
        "- Part 7 provides instructions for uploading responses and information about grading.\n"
      ]
    },
    {
      "cell_type": "markdown",
      "metadata": {
        "id": "UN2_RsgmhKbJ"
      },
      "source": [
        "# Part 1: Setting up the environment\n"
      ]
    },
    {
      "cell_type": "markdown",
      "metadata": {
        "id": "suUMkKd-Z8cb"
      },
      "source": [
        "## Install dependencies\n",
        "\n",
        "The en_core_web_md module is used for:\n",
        "\n",
        "1. en: English\n",
        "2. core: Vocabulary, syntax, entities\n",
        "3. web: Written text - (blogs, news, comments)\n",
        "4. md: 31 MB (This project uses the medium version [here](https://spacy.io/models/en#en_core_web_lg) for quick and reliable analysis; but feel free to try out other versions, below.)\n",
        "\n",
        "Other versions:\n",
        "\n",
        "1. Small: [en_core_web_sm](https://spacy.io/models/en#en_core_web_sm)\n",
        "2. Large: [en_core_web_lg](https://spacy.io/models/en#en_core_web_lg)\n",
        "3. Transformer: [en_core_web_trf](https://spacy.io/models/en#en_core_web_trf)\n",
        "\n",
        "**Run the code cell below to install required dependencies.**\n",
        "\n",
        "> After installation, you may need to restart the kernel.\n"
      ]
    },
    {
      "cell_type": "code",
      "execution_count": null,
      "metadata": {
        "id": "hzw_XK9eZakK"
      },
      "outputs": [],
      "source": [
        "%pip install datasets\n",
        "%pip install --upgrade spacy==3.2\n",
        "%pip install transformers\n",
        "%pip install sentence-transformers\n",
        "!python -m spacy download en_core_web_md\n",
        "\n",
        "from IPython.core.display import HTML\n",
        "HTML(\"<script>Jupyter.notebook.kernel.restart()</script>\")"
      ]
    },
    {
      "cell_type": "markdown",
      "metadata": {
        "id": "TCoL-XiqaQDd"
      },
      "source": [
        "# Part 2 - Downloading and sampling the dataset\n",
        "\n",
        "Download and sample the dataset **[AG's corpus of news articles](http://groups.di.unipi.it/~gulli/AG_corpus_of_news_articles.html)** which is a collection of more than 1 Million News Articles, extracted from more than 2000 news resources within a span of one year, labeled with 4 news categories: 0. World\n",
        "\n",
        "1. Sports\n",
        "2. Business\n",
        "3. Sci/Tech\n"
      ]
    },
    {
      "cell_type": "markdown",
      "metadata": {
        "id": "IZMwhnVFhR9y"
      },
      "source": [
        "## Download the Dataset\n"
      ]
    },
    {
      "cell_type": "code",
      "execution_count": 4,
      "metadata": {
        "id": "C_5mAVp9agYd"
      },
      "outputs": [
        {
          "name": "stderr",
          "output_type": "stream",
          "text": [
            "/Users/krishnakodali/Documents/university-of-florida/academics/sem-2/NLP/projects/.venv/lib/python3.12/site-packages/tqdm/auto.py:21: TqdmWarning: IProgress not found. Please update jupyter and ipywidgets. See https://ipywidgets.readthedocs.io/en/stable/user_install.html\n",
            "  from .autonotebook import tqdm as notebook_tqdm\n"
          ]
        }
      ],
      "source": [
        "import pandas as pd\n",
        "\n",
        "from datasets import load_dataset\n",
        "\n",
        "dataset = load_dataset(\"ag_news\")\n",
        "train = dataset.get(\"train\").to_pandas().rename(columns={\"label\": \"category\"})\n",
        "test = dataset.get(\"test\").to_pandas().rename(columns={\"label\": \"category\"})"
      ]
    },
    {
      "cell_type": "markdown",
      "metadata": {
        "id": "_bsTac-ZbQjo"
      },
      "source": [
        "## Sample the dataset\n"
      ]
    },
    {
      "cell_type": "code",
      "execution_count": 5,
      "metadata": {
        "id": "2iU0Shi0bTk2"
      },
      "outputs": [],
      "source": [
        "train = train.sample(frac=0.001, random_state=1).reset_index(drop=True)\n",
        "test = test.sample(frac=0.01, random_state=1).reset_index(drop=True)"
      ]
    },
    {
      "cell_type": "markdown",
      "metadata": {
        "id": "BU0b4bZObXzp"
      },
      "source": [
        "# Part 3 - Text preprocessing\n",
        "\n",
        "To reduce noise in the data, text preprocessing is performed using the following preprocessing methods:\n",
        "\n",
        "1. Tokenization\n",
        "2. Punctuation removal\n",
        "3. Stop word removal\n",
        "4. Word lemmatization\n"
      ]
    },
    {
      "cell_type": "markdown",
      "metadata": {
        "id": "bkg53u3Xhjn2"
      },
      "source": [
        "## Tokenization\n"
      ]
    },
    {
      "cell_type": "code",
      "execution_count": 6,
      "metadata": {
        "id": "x-iDVQnxbgYy"
      },
      "outputs": [],
      "source": [
        "import spacy\n",
        "import string\n",
        "\n",
        "from typing import List\n",
        "\n",
        "from spacy.tokens.token import Token\n",
        "\n",
        "nlp = spacy.load(\"en_core_web_md\")\n",
        "sample_text = \"These are a series of demos, to show how& to use spacy **for** preprocessing tasks!\""
      ]
    },
    {
      "cell_type": "code",
      "execution_count": 7,
      "metadata": {
        "id": "4KOMS1yKbhfz"
      },
      "outputs": [
        {
          "name": "stdout",
          "output_type": "stream",
          "text": [
            "Tokenizer output:  [These, are, a, series, of, demos, ,, to, show, how, &, to, use, spacy, *, *, for, *, *, preprocessing, tasks, !]\n",
            "Split output:  ['These', 'are', 'a', 'series', 'of', 'demos,', 'to', 'show', 'how&', 'to', 'use', 'spacy', '**for**', 'preprocessing', 'tasks!']\n"
          ]
        }
      ],
      "source": [
        "def tokenize(text: str) -> List[Token]:\n",
        "    doc = nlp(text)\n",
        "    return [word for word in doc]\n",
        "\n",
        "\n",
        "print(\"Tokenizer output: \", tokenize(sample_text))\n",
        "print(\"Split output: \", sample_text.split(\" \"))"
      ]
    },
    {
      "cell_type": "code",
      "execution_count": 8,
      "metadata": {
        "id": "rsFSJAmDboe7"
      },
      "outputs": [],
      "source": [
        "tokens = tokenize(sample_text)"
      ]
    },
    {
      "cell_type": "markdown",
      "metadata": {
        "id": "r2Mpwc0Ebw_s"
      },
      "source": [
        "## Punctuation and stopword removal.\n"
      ]
    },
    {
      "cell_type": "code",
      "execution_count": 9,
      "metadata": {
        "id": "0CmHj4OqcAvV"
      },
      "outputs": [],
      "source": [
        "def remove_punctuation(tokens: List[Token]) -> List[Token]:\n",
        "    return [t for t in tokens if t.text not in string.punctuation]\n",
        "\n",
        "\n",
        "def remove_stop_words(tokens: List[Token]) -> List[Token]:\n",
        "    return [t for t in tokens if not t.is_stop]"
      ]
    },
    {
      "cell_type": "markdown",
      "metadata": {
        "id": "nR4yh9MqcdUX"
      },
      "source": [
        "## Text Lemmatization\n"
      ]
    },
    {
      "cell_type": "code",
      "execution_count": 11,
      "metadata": {
        "id": "i5YZeN14cijc"
      },
      "outputs": [],
      "source": [
        "def lemmatize(tokens: List[Token]) -> List[str]:\n",
        "    return [token.lemma_ for token in tokens]"
      ]
    },
    {
      "cell_type": "markdown",
      "metadata": {
        "id": "s0Jh7pQThu8v"
      },
      "source": [
        "# Part 4 - Similarity Algorithms\n",
        "\n",
        "Few well known techniques are used to determine how similar two documents are. Then, these similarity measures are used to find the most similar document in the training dataset to any given document.\n"
      ]
    },
    {
      "cell_type": "markdown",
      "metadata": {
        "id": "Fw-hRI3FcozP"
      },
      "source": [
        "## Jaccard Similarity\n",
        "\n",
        "Jaccard similarity is a statistical measure to gauge similarity and diversity among different sets. In NLP applications, Jaccard similarity has been applied to determine:\n",
        "\n",
        "1. Character-level similarity\n",
        "2. Word-level similarity\n",
        "3. Sentence-level similarity\n",
        "\n",
        "In general, character-based similarity is less meaningful, as character counts are not necessarily indicative of linguistic structure or meaning. By contrast, applying Jaccard at the word or sentence level supports similarity detection where meaningful units (words, sentences) are repeatedly used in the data set, as in social media texts.\n",
        "\n",
        "The task of topic modeling is considered, where a _word-level similarity_ comparison is made over the words as tokens, as extracted from text documents. A comparison is made for _n_-grams where _n_ is the number of adjacent tokens considered per comparison. By default, 1-gram n-grams are used for comparisons.\n",
        "\n",
        "Start with Jaccard similarity as a token (word)-based method to perform document similarity. Divide the magnitude of intersection of different tokens (words) among two documents, by the magnitude of the union.\n",
        "\n",
        "Formally,  \n",
        "A = tokens of document1  \n",
        "B = tokens of document2\n",
        "\n",
        "Jaccard Similarity = $\\frac{|A \\cap  B|}{|A \\cup B|}$\n",
        "\n",
        "Note: In Jaccard Similarity we compare the actual tokens in the document and not their meaning in any way; although this limits the accuracy of this comparison algorithm, it is a first step toward understanding the notion of _semantic similarity_.\n"
      ]
    },
    {
      "cell_type": "markdown",
      "metadata": {
        "id": "v3RiyGD0c48R"
      },
      "source": [
        "### Preprocessing for Jaccard Similarity\n"
      ]
    },
    {
      "cell_type": "code",
      "execution_count": 13,
      "metadata": {
        "id": "QyXxTj0vc7k8"
      },
      "outputs": [
        {
          "name": "stdout",
          "output_type": "stream",
          "text": [
            "['series', 'demos', 'use', 'spacy', 'preprocessing', 'task']\n"
          ]
        }
      ],
      "source": [
        "def preprocess_text_jaccard(text) -> List[str]:\n",
        "    \"\"\"\n",
        "    This function expects an object of type string and returns a list of lemmas\n",
        "    after removing puctuations and stop words\n",
        "    \"\"\"\n",
        "    tokens = tokenize(text)\n",
        "    tokens = remove_punctuation(tokens)\n",
        "    tokens = remove_stop_words(tokens)\n",
        "    tokens = lemmatize(tokens)\n",
        "\n",
        "    return tokens\n",
        "\n",
        "\n",
        "tokens = preprocess_text_jaccard(sample_text)\n",
        "print(tokens)"
      ]
    },
    {
      "cell_type": "markdown",
      "metadata": {
        "id": "3nTsK1bgc-fh"
      },
      "source": [
        "**Execute the code below to apply the preprocessing on the entire train and test samples (this step could take up to 5 minutes), and then execute the print command.**\n"
      ]
    },
    {
      "cell_type": "code",
      "execution_count": 14,
      "metadata": {
        "id": "RYXD42e5dBNe"
      },
      "outputs": [
        {
          "name": "stdout",
          "output_type": "stream",
          "text": [
            "0    [BEA, buzz, Beehive, BURLINGAME, CALIF.--, BEA...\n",
            "1    [Saudi, violence, push, Oil, Prices, high, oil...\n",
            "2    [storm, show, Haiti, 39;s, strait, muddy, wate...\n",
            "3    [crew, fail, find, tree, Killing, Beetle, AP, ...\n",
            "4    [justice, Light, bad, Stern, stop, 30, game, R...\n",
            "Name: text_processed, dtype: object\n"
          ]
        }
      ],
      "source": [
        "train[\"text_processed\"] = train[\"text\"].apply(preprocess_text_jaccard)\n",
        "test[\"text_processed\"] = test[\"text\"].apply(preprocess_text_jaccard)\n",
        "print(train[\"text_processed\"].head())"
      ]
    },
    {
      "cell_type": "code",
      "execution_count": null,
      "metadata": {
        "id": "yKyEMvcmdHp8"
      },
      "outputs": [],
      "source": [
        "from typing import List\n",
        "\n",
        "\n",
        "def jaccard_similarity(source: List[str], target: List[str]) -> float:\n",
        "    \"\"\"\n",
        "    This function accepts two list of str and calculates Jaccard Similarity\n",
        "    \"\"\"\n",
        "\n",
        "    intersection = set(source) & set(target)\n",
        "    union = set(source) | set(target)\n",
        "    if not union:\n",
        "        return 0.0\n",
        "    return len(intersection) / len(union)"
      ]
    },
    {
      "cell_type": "code",
      "execution_count": 23,
      "metadata": {
        "id": "hFO2MKwHdIp6"
      },
      "outputs": [
        {
          "name": "stdout",
          "output_type": "stream",
          "text": [
            "Test Passed!\n"
          ]
        }
      ],
      "source": [
        "try:\n",
        "    assert (\n",
        "        jaccard_similarity(\n",
        "            preprocess_text_jaccard(\"This is a passage about oil\"),\n",
        "            preprocess_text_jaccard(\"This is another passage about oil\"),\n",
        "        )\n",
        "        > 0.9\n",
        "    )\n",
        "    assert (\n",
        "        jaccard_similarity(\n",
        "            preprocess_text_jaccard(\"these are\"),\n",
        "            preprocess_text_jaccard(\"completely different\"),\n",
        "        )\n",
        "        == 0\n",
        "    )\n",
        "    assert (\n",
        "        jaccard_similarity(\n",
        "            preprocess_text_jaccard(\"petrol prices are high\"),\n",
        "            preprocess_text_jaccard(\"petrol prices are very low\"),\n",
        "        )\n",
        "        == 0.5\n",
        "    )\n",
        "    print(\"Test Passed!\")\n",
        "except AssertionError as e:\n",
        "    print(\"Test Failed\")\n",
        "    raise"
      ]
    },
    {
      "cell_type": "markdown",
      "metadata": {
        "id": "6prYnZW4FsEv"
      },
      "source": [
        "### Applying Jaccard Similarity to the corpus\n"
      ]
    },
    {
      "cell_type": "code",
      "execution_count": 24,
      "metadata": {
        "id": "hVAf2caIDxi7"
      },
      "outputs": [],
      "source": [
        "def find_most_similar_document_jaccard(test_data_point: List[str]) -> int:\n",
        "    \"\"\"\n",
        "    This functions finds the most similar document to the test_data_point\n",
        "    using the Jaccard distance metric\n",
        "    \"\"\"\n",
        "\n",
        "    train[\"similarity_score\"] = train[\"text_processed\"].apply(\n",
        "        lambda x: jaccard_similarity(x, test_data_point)\n",
        "    )\n",
        "    return train[\"similarity_score\"].idxmax()"
      ]
    },
    {
      "cell_type": "markdown",
      "metadata": {
        "id": "b3GQHKL_WqSc"
      },
      "source": [
        "We test the Jaccard Similarity function on one of the documents from the test set to obtain the most similar document. **Change the document number in the first line of code below to test for other documents.**\n"
      ]
    },
    {
      "cell_type": "code",
      "execution_count": 25,
      "metadata": {
        "id": "WVNbkgVxdxCF"
      },
      "outputs": [
        {
          "name": "stdout",
          "output_type": "stream",
          "text": [
            "Test Document \n",
            "Techs extend Nikkei #39;s rally Technology shares edged up in Asia on Tuesday, as crude oil prices hovered near \\$44 a barrel and the dollar languished ahead of key US economic data.\n",
            "\n",
            "Most Similar Document \n",
            "US election reprieve for oil NEW YORK: Oil dropped below \\$50 a barrel last night to the lowest price in more than a month, extending a \\$6 slide from recent peaks as the US presidential election got underway.\n"
          ]
        }
      ],
      "source": [
        "document1 = test.iloc[2]\n",
        "print(f\"Test Document \\n{document1.text}\\n\")\n",
        "most_similar = find_most_similar_document_jaccard(document1[\"text_processed\"])\n",
        "print(f\"Most Similar Document \\n{train.iloc[most_similar].text}\")"
      ]
    },
    {
      "cell_type": "markdown",
      "metadata": {
        "id": "RRWOBAX8d8t7"
      },
      "source": [
        "### Jaccard Evaluation\n",
        "\n",
        "One way to evaluate the accuracy of similarity models is to determine whether the category of the most similar document matches that of the source document. If both are labeled with the same category, the two documents are considered to be \"similar\".\n",
        "\n",
        "Let's return to our news categorization example:\n",
        "\n",
        "1. World\n",
        "2. Sports\n",
        "3. Business\n",
        "4. Sci/Tech\n",
        "\n",
        "A _confusion matrix_ is a table that is used to investigate the performance of a classification algorithm. A confusion matrix visualizes and summarizes the performance of a classification algorithm, that is, it illustrates for each predicted outcome whether the system output is correct.\n",
        "\n",
        "A _heatmap_ can be used to visualize the outcome of a classification solution. Each row in the heatmap is a predicted category for a given document and each column is the actual category for that document. This form of visualization allows one to decide which categories are best characterized by the classification algorithm. The heatmap below employs darker colors for higher values and lighter colors for lower values. Note that the number of **false negatives** for a given category X is the sum of the values in row X (excluding the value in column X) and the number of **false positives** for a given category X is the sum of the values in column X (excluding the value in row X).\n"
      ]
    },
    {
      "cell_type": "code",
      "execution_count": 26,
      "metadata": {
        "id": "qXvXujuqd8Pn"
      },
      "outputs": [
        {
          "name": "stdout",
          "output_type": "stream",
          "text": [
            "   precision    recall    fscore\n",
            "0   0.750000  0.631579  0.685714\n",
            "1   0.565217  0.619048  0.590909\n",
            "2   0.714286  0.714286  0.714286\n",
            "3   0.437500  0.466667  0.451613\n"
          ]
        },
        {
          "data": {
            "image/png": "[encoded data removed]",
            "text/plain": [
              "<Figure size 640x480 with 2 Axes>"
            ]
          },
          "metadata": {},
          "output_type": "display_data"
        }
      ],
      "source": [
        "import seaborn as sns\n",
        "import matplotlib.pyplot as plt\n",
        "\n",
        "from sklearn.metrics import confusion_matrix\n",
        "from sklearn.metrics import precision_recall_fscore_support\n",
        "\n",
        "category_found = train[\"category\"].iloc[\n",
        "    test[\"text_processed\"].apply(lambda x: find_most_similar_document_jaccard(x))\n",
        "]\n",
        "category_found = category_found.reset_index()\n",
        "test[\"category_found\"] = category_found[\"category\"]\n",
        "\n",
        "precision, recall, fscore, support = precision_recall_fscore_support(\n",
        "    test[\"category\"], test[\"category_found\"]\n",
        ")\n",
        "print(pd.DataFrame({\"precision\": precision, \"recall\": recall, \"fscore\": fscore}))\n",
        "\n",
        "cf_matrix = confusion_matrix(test[\"category\"], test[\"category_found\"])\n",
        "ax = plt.axes()\n",
        "sns.heatmap(\n",
        "    cf_matrix,\n",
        "    annot=True,\n",
        "    xticklabels=[\"World\", \"Sports\", \"Business\", \"Sci/Tech\"],\n",
        "    yticklabels=[\"World\", \"Sports\", \"Business\", \"Sci/Tech\"],\n",
        "    cmap=\"Blues\",\n",
        "    ax=ax,\n",
        ")\n",
        "ax.set_title(\"Heatmap for Jaccards Similarity Results\")\n",
        "ax.set_xlabel(\"Predicted category\")\n",
        "ax.set_ylabel(\"Actual category\")\n",
        "plt.show()"
      ]
    },
    {
      "cell_type": "markdown",
      "metadata": {
        "id": "B04Whg_meSDJ"
      },
      "source": [
        "## 3.2 Cosine Distance\n",
        "\n",
        "Cosine similarity is a measure of similarity between two sequences of numbers. The sequences are viewed as vectors in an inner product space, and the cosine similarity is defined as the cosine of the angle between them, that is, the dot product of the vectors divided by the product of their lengths. It follows that the cosine similarity does not depend on the magnitudes of the vectors, but only on their angle.\n",
        "\n",
        "### Word Vectors\n",
        "\n",
        "Word embeddings (also called word vectors) represent each word numerically in such a way that the vector corresponds to how that word is used or what it means. Vector encodings are learned by considering the context in which the words appear. Words that appear in similar contexts will have similar vectors.\n",
        "\n",
        "Word vectors (Word2vec) can be used as features for machine learning models. Word vectors will typically improve the performance of models above bag of words encoding.\n",
        "\n",
        "Here pretrained word vectorizer will be imported and look up the vector representation of the words from it. An average vector representation of a document is calculated by a mean of word vectors.\n",
        "\n",
        "A = Average vector representation of document1\n",
        "B = Average vector representation of document2\n",
        "\n",
        "Cosine Distance = $1- \\frac{A.B}{\\mid A\\mid \\mid B\\mid}$\n"
      ]
    },
    {
      "cell_type": "markdown",
      "metadata": {
        "id": "VpwA7bsWeWO8"
      },
      "source": [
        "### Preprocessing for Cosine Similarity\n"
      ]
    },
    {
      "cell_type": "code",
      "execution_count": 30,
      "metadata": {
        "id": "rzCP8OAweZEi"
      },
      "outputs": [
        {
          "name": "stdout",
          "output_type": "stream",
          "text": [
            "Vector representation of 'These are a series of demos, to show how& to use spacy **for** preprocessing tasks!'\n",
            "[-0.76228005  0.21994667  0.03597595 -0.03389915 -0.32809135  0.19858451\n",
            "  0.21446133 -0.15553208  0.16237001  0.880155  ]\n"
          ]
        }
      ],
      "source": [
        "import numpy as np\n",
        "\n",
        "\n",
        "def preprocess_cosine_similarity(text: str) -> np.array:\n",
        "    tokens = tokenize(text)\n",
        "    tokens = remove_punctuation(tokens)\n",
        "    tokens = remove_stop_words(tokens)\n",
        "    vector = np.mean([word.vector for word in tokens], axis=0)\n",
        "    return vector\n",
        "\n",
        "\n",
        "print(f\"Vector representation of '{sample_text}'\")\n",
        "print(preprocess_cosine_similarity(sample_text)[:10])"
      ]
    },
    {
      "cell_type": "markdown",
      "metadata": {
        "id": "KXG3QWtYepkc"
      },
      "source": [
        "### Applying Cosine Similarity to the corpus\n"
      ]
    },
    {
      "cell_type": "code",
      "execution_count": 31,
      "metadata": {
        "id": "cFZxdTF6ekXZ"
      },
      "outputs": [],
      "source": [
        "train[\"text_processed\"] = train[\"text\"].apply(preprocess_cosine_similarity)\n",
        "test[\"text_processed\"] = test[\"text\"].apply(preprocess_cosine_similarity)"
      ]
    },
    {
      "cell_type": "code",
      "execution_count": 34,
      "metadata": {
        "id": "9Fr93xNuezHa"
      },
      "outputs": [],
      "source": [
        "from scipy.spatial.distance import cosine\n",
        "\n",
        "\n",
        "def cosine_similarity(vector_1: np.array, vector_2: np.array) -> float:\n",
        "    \"\"\"\n",
        "    :param vector_1: vector of the first document\n",
        "    :param vector_2: vector of the second document\n",
        "    :return: cosine similarity between the two documents\n",
        "    \"\"\"\n",
        "    if np.all(vector_1 == 0) or np.all(vector_2 == 0):\n",
        "        return 0.0\n",
        "    return 1 - cosine(vector_1, vector_2)"
      ]
    },
    {
      "cell_type": "code",
      "execution_count": 35,
      "metadata": {
        "id": "y5u9Az_We1Xk"
      },
      "outputs": [
        {
          "name": "stdout",
          "output_type": "stream",
          "text": [
            "Test Passed!\n"
          ]
        }
      ],
      "source": [
        "try:\n",
        "    assert cosine_similarity(np.zeros(5), np.zeros(5)) == 0\n",
        "    assert cosine_similarity(np.zeros(5), np.ones(5)) == 0\n",
        "    assert cosine_similarity(np.array([2, 3, 4]), np.array([2, 3, 4])) == 1.0\n",
        "    print(\"Test Passed!\")\n",
        "except AssertionError as e:\n",
        "    print(\"Test Failed\")\n",
        "    raise"
      ]
    },
    {
      "cell_type": "code",
      "execution_count": 38,
      "metadata": {
        "id": "RGgHGQM5e8XB"
      },
      "outputs": [],
      "source": [
        "def find_most_similar_document_cosine(test_data_point: np.array) -> int:\n",
        "    \"\"\"\n",
        "    This function finds the most similar document to the test_data_point\n",
        "    using the cosine distance metric\n",
        "    \"\"\"\n",
        "\n",
        "    train[\"similarity_score\"] = train[\"text_processed\"].apply(\n",
        "        lambda x: cosine_similarity(x, test_data_point)\n",
        "    )\n",
        "    return train[\"similarity_score\"].idxmax()"
      ]
    },
    {
      "cell_type": "code",
      "execution_count": 39,
      "metadata": {
        "id": "CCgXuJLze-KX"
      },
      "outputs": [
        {
          "name": "stdout",
          "output_type": "stream",
          "text": [
            "Test Document \n",
            "Techs extend Nikkei #39;s rally Technology shares edged up in Asia on Tuesday, as crude oil prices hovered near \\$44 a barrel and the dollar languished ahead of key US economic data.\n",
            "\n",
            "Most Similar Document \n",
            "Nikkei Up 1.5 Pct, Year-End Rally Eyed  TOKYO (Reuters) - Tokyo stocks posted strong rises by  Friday afternoon as hopes for a seasonal year-end rally and the  imminent inclusion of oil and gas developer INPEX Corp. into  the TOPIX index, spurred buying in a wide range of stocks.\n"
          ]
        }
      ],
      "source": [
        "document1 = test.iloc[2]\n",
        "print(f\"Test Document \\n{document1.text}\\n\")\n",
        "most_similar = find_most_similar_document_cosine(document1[\"text_processed\"])\n",
        "print(f\"Most Similar Document \\n{train.iloc[most_similar].text}\")"
      ]
    },
    {
      "cell_type": "markdown",
      "metadata": {
        "id": "hObxVLXwfD_r"
      },
      "source": [
        "### Cosine Distance Evaluation\n"
      ]
    },
    {
      "cell_type": "code",
      "execution_count": 40,
      "metadata": {
        "id": "HgeglfWefG9x"
      },
      "outputs": [
        {
          "name": "stdout",
          "output_type": "stream",
          "text": [
            "   precision    recall    fscore\n",
            "0   0.700000  0.736842  0.717949\n",
            "1   0.900000  0.857143  0.878049\n",
            "2   0.653846  0.809524  0.723404\n",
            "3   0.600000  0.400000  0.480000\n"
          ]
        },
        {
          "data": {
            "image/png": "[encoded data removed]",
            "text/plain": [
              "<Figure size 640x480 with 2 Axes>"
            ]
          },
          "metadata": {},
          "output_type": "display_data"
        }
      ],
      "source": [
        "category_found = train[\"category\"].iloc[\n",
        "    test[\"text_processed\"].apply(lambda x: find_most_similar_document_cosine(x))\n",
        "]\n",
        "category_found = category_found.reset_index()\n",
        "test[\"category_found\"] = category_found[\"category\"]\n",
        "\n",
        "cf_matrix = confusion_matrix(test[\"category\"], test[\"category_found\"])\n",
        "\n",
        "precision, recall, fscore, support = precision_recall_fscore_support(\n",
        "    test[\"category\"], test[\"category_found\"]\n",
        ")\n",
        "print(pd.DataFrame({\"precision\": precision, \"recall\": recall, \"fscore\": fscore}))\n",
        "ax = plt.axes()\n",
        "sns.heatmap(\n",
        "    cf_matrix,\n",
        "    annot=True,\n",
        "    xticklabels=[\"World\", \"Sports\", \"Business\", \"Sci/Tech\"],\n",
        "    yticklabels=[\"World\", \"Sports\", \"Business\", \"Sci/Tech\"],\n",
        "    cmap=\"Blues\",\n",
        "    ax=ax,\n",
        ")\n",
        "ax.set_title(\"Heatmap for Word2vec - Cosine Similarity Results\")\n",
        "ax.set_xlabel(\"Predicted category\")\n",
        "ax.set_ylabel(\"Actual category\")\n",
        "plt.show()"
      ]
    },
    {
      "cell_type": "markdown",
      "metadata": {
        "id": "r5FuYbCCfSWy"
      },
      "source": [
        "# Part 5 - Vectorization techniques\n"
      ]
    },
    {
      "cell_type": "markdown",
      "metadata": {
        "id": "JPdSkShZh-2t"
      },
      "source": [
        "## TF-IDF\n",
        "\n",
        "TF-IDF is a very important technique, widely used in practice for its simplicity, performance, and accuracy. It is the same algorithm used by many search engines to index and search text documents, e.g., [Solr](https://solr.apache.org/guide/8_0/term-vectors.html) and [ElasticSearch](https://www.elastic.co/guide/en/elasticsearch/reference/5.6/similarity.html).\n",
        "\n",
        "TF-IDF weight indicates the importance of a word in a given document by detecting whether a word is discriminative of a particular document or not. In this section, TF-IDF weights are used to convert sentences into vector representations.\n",
        "\n",
        "The calculation of the TF-IDF weight for a word _t_ in document _d_ is as follows:\n",
        "\n",
        "$$\n",
        "\\text{TF-IDF}_{t,d} = \\text{tf}_{t,d} \\cdot \\text{idf}_t\n",
        "$$\n",
        "\n",
        "where\n",
        "\n",
        "$$\n",
        "\\text{tf}_{t,d} = \\log_{10}(\\text{count}(t,d) + 1)\n",
        "$$\n",
        "\n",
        "$$\n",
        "\\text{idf}_t = \\log_{10} \\left( \\frac{N}{\\text{df}_t} \\right)\n",
        "$$\n",
        "\n",
        "Here,\n",
        "\n",
        "- $N$ = total number of documents\n",
        "- $\\text{df}_t$ = number of documents in which word _t_ occurs\n"
      ]
    },
    {
      "cell_type": "code",
      "execution_count": null,
      "metadata": {
        "id": "mZjz9yYOfdgi"
      },
      "outputs": [],
      "source": [
        "def preprocess_text_tfidf(text: str) -> str:\n",
        "    \"\"\"\n",
        "    This functions accepts a str as input and performs processing for TF-IDF\n",
        "    \"\"\"\n",
        "\n",
        "    tokens = tokenize(text)\n",
        "    tokens = remove_punctuation(tokens)\n",
        "    tokens = lemmatize(tokens)\n",
        "\n",
        "    return \" \".join(tokens)"
      ]
    },
    {
      "cell_type": "code",
      "execution_count": 60,
      "metadata": {
        "id": "FXuXmN9kfeQj"
      },
      "outputs": [
        {
          "name": "stdout",
          "output_type": "stream",
          "text": [
            "Test Passed!\n"
          ]
        }
      ],
      "source": [
        "try:\n",
        "    # test - regular input\n",
        "    assert (\n",
        "        preprocess_text_tfidf(\n",
        "            \"testing out the functionality of the tf-idf method, lets see how well it performs\"\n",
        "        )\n",
        "        == \"test out the functionality of the tf idf method lets see how well it perform\"\n",
        "    )\n",
        "\n",
        "    print(\"Test Passed!\")\n",
        "except AssertionError as e:\n",
        "    print(\"Test Failed\")\n",
        "    raise"
      ]
    },
    {
      "cell_type": "code",
      "execution_count": 61,
      "metadata": {
        "id": "N7d9zLlbfi3y"
      },
      "outputs": [],
      "source": [
        "from sklearn.feature_extraction.text import TfidfVectorizer\n",
        "\n",
        "\n",
        "def get_tfidf_vectorizer(train_sample: pd.DataFrame, test_sample: pd.DataFrame):\n",
        "    vect = TfidfVectorizer(ngram_range=(1, 2))\n",
        "    train_sample[\"text_processed\"] = list(\n",
        "        vect.fit_transform(train_sample[\"text\"].apply(preprocess_text_tfidf)).toarray()\n",
        "    )\n",
        "    test_sample[\"text_processed\"] = list(\n",
        "        vect.transform(test_sample[\"text\"].apply(preprocess_text_tfidf)).toarray()\n",
        "    )\n",
        "    return train_sample, test_sample"
      ]
    },
    {
      "cell_type": "code",
      "execution_count": 62,
      "metadata": {
        "id": "oTIAmAxbflJb"
      },
      "outputs": [
        {
          "name": "stdout",
          "output_type": "stream",
          "text": [
            "Test Document \n",
            "Techs extend Nikkei #39;s rally Technology shares edged up in Asia on Tuesday, as crude oil prices hovered near \\$44 a barrel and the dollar languished ahead of key US economic data.\n",
            "\n",
            "Most Similar Document \n",
            "Saudi Violence Pushes Oil Prices Higher Oil prices were forced higher today by an outbreak of violence in Saudi Arabia and concerns that Opec may cut output. The cost of a barrel of light, sweet crude oil climbed \n"
          ]
        }
      ],
      "source": [
        "train, test = get_tfidf_vectorizer(train, test)\n",
        "document1 = test.iloc[2]\n",
        "print(f\"Test Document \\n{document1.text}\\n\")\n",
        "most_similar = find_most_similar_document_cosine(document1[\"text_processed\"])\n",
        "print(f\"Most Similar Document \\n{train.iloc[most_similar].text}\")"
      ]
    },
    {
      "cell_type": "markdown",
      "metadata": {
        "id": "UG8oGkStfoLY"
      },
      "source": [
        "### TF-IDF with cosine distance Evaluation\n"
      ]
    },
    {
      "cell_type": "code",
      "execution_count": 64,
      "metadata": {
        "id": "yTL4u0eXfqlZ"
      },
      "outputs": [
        {
          "name": "stdout",
          "output_type": "stream",
          "text": [
            "   precision    recall    fscore\n",
            "0   0.619048  0.684211  0.650000\n",
            "1   0.684211  0.619048  0.650000\n",
            "2   0.666667  0.761905  0.711111\n",
            "3   0.666667  0.533333  0.592593\n"
          ]
        },
        {
          "data": {
            "image/png": "[encoded data removed]",
            "text/plain": [
              "<Figure size 640x480 with 2 Axes>"
            ]
          },
          "metadata": {},
          "output_type": "display_data"
        }
      ],
      "source": [
        "category_found = train[\"category\"].iloc[\n",
        "    test[\"text_processed\"].apply(lambda x: find_most_similar_document_cosine(x))\n",
        "]\n",
        "category_found = category_found.reset_index()\n",
        "test[\"category_found\"] = category_found[\"category\"]\n",
        "\n",
        "cf_matrix = confusion_matrix(test[\"category\"], test[\"category_found\"])\n",
        "\n",
        "precision, recall, fscore, support = precision_recall_fscore_support(\n",
        "    test[\"category\"], test[\"category_found\"]\n",
        ")\n",
        "print(pd.DataFrame({\"precision\": precision, \"recall\": recall, \"fscore\": fscore}))\n",
        "ax = plt.axes()\n",
        "sns.heatmap(\n",
        "    cf_matrix,\n",
        "    annot=True,\n",
        "    xticklabels=[\"World\", \"Sports\", \"Business\", \"Sci/Tech\"],\n",
        "    yticklabels=[\"World\", \"Sports\", \"Business\", \"Sci/Tech\"],\n",
        "    cmap=\"Blues\",\n",
        "    ax=ax,\n",
        ")\n",
        "ax.set_title(\"Heatmap for TF-IDF - Cosine Similarity Results\")\n",
        "ax.set_xlabel(\"Predicted category\")\n",
        "ax.set_ylabel(\"Actual category\")\n",
        "plt.show()"
      ]
    },
    {
      "cell_type": "markdown",
      "metadata": {
        "id": "nieRBBVWmig0"
      },
      "source": [
        "## BERT Embeddings\n"
      ]
    },
    {
      "cell_type": "markdown",
      "metadata": {
        "id": "aCVwCswAmvqe"
      },
      "source": [
        "**B**idirectional **E**ncoder **R**epresentations from **T**ransformers (BERT) is a deep learning model developed using the Transformer architecture.\n",
        "\n",
        "As suggested by its name, BERT is a bi-directional encoder that considers both right and left context during training. The model is trained on a large amount of text data to generate contextual word embeddings depending on the context a particular word appears. BERT is pre-trained on two unsupervised learning objectives.\n",
        "\n",
        "1. Masked Language Modeling (MLM) - Some words in the input sentences are randomly masked so that the model is tasked to predict the masked words based on the context observed.\n",
        "2. Next Sentence Prediction (NSP) - Here, BERT is trained to predict whether two given sentences are contiguous in the original text.\n"
      ]
    },
    {
      "cell_type": "markdown",
      "metadata": {
        "id": "JVx-m2gMX8ll"
      },
      "source": [
        "### Tokenization\n",
        "\n",
        "In part 3, spacy tokenizer separated a given sentence into words, punctuation marks and special symbols. Therefore, spacy tokenizer can be considered as a word-level tokenizer. But the BERT model utilizes a sub-word tokenizer where a given sentence is separated into smaller sub-word units to handle out-of-vocabulary (OOV) words. Since words can be broken down into more frequently used sub-words, even though the particular word itself is not available in the model vocabulary, there is a high chance for its sub-words to be available, hence making it possible to represent the particular word. An example is shown below.\n",
        "\n",
        "In the below example the word \"cerulean\" is broken down to three sub-words, \"ce\", \"##ru\" and \"##lean\" during tokenization, but when token ids are decoded as a whole, these three sub-words are connected together to form the initial word \"cerulean\".\n"
      ]
    },
    {
      "cell_type": "code",
      "execution_count": null,
      "metadata": {},
      "outputs": [
        {
          "name": "stdout",
          "output_type": "stream",
          "text": [
            "tensor([[  101,  1045,  2572,  3752,  1005,  1996,  2160,  1999,  1996,  8292,\n",
            "          6820, 20898,  2712,  1005,   102]])\n",
            "tensor([[0, 0, 0, 0, 0, 0, 0, 0, 0, 0, 0, 0, 0, 0, 0]])\n",
            "tensor([[1, 1, 1, 1, 1, 1, 1, 1, 1, 1, 1, 1, 1, 1, 1]])\n",
            "[CLS]\n",
            "i\n",
            "am\n",
            "reading\n",
            "'\n",
            "the\n",
            "house\n",
            "in\n",
            "the\n",
            "ce\n",
            "##ru\n",
            "##lean\n",
            "sea\n",
            "'\n",
            "[SEP]\n",
            "[CLS] i am reading'the house in the cerulean sea'[SEP]\n"
          ]
        }
      ],
      "source": [
        "from transformers import BertTokenizer\n",
        "\n",
        "tokenizer = BertTokenizer.from_pretrained(\"bert-base-uncased\")\n",
        "\n",
        "example_text = \"I am reading 'The House in the Cerulean Sea'\"\n",
        "bert_input = tokenizer(\n",
        "    example_text,\n",
        "    padding=\"max_length\",\n",
        "    max_length=15,\n",
        "    truncation=True,\n",
        "    return_tensors=\"pt\",\n",
        ")\n",
        "\n",
        "#  id of each token in the vocabulary\n",
        "print(bert_input[\"input_ids\"])\n",
        "print(bert_input[\"token_type_ids\"])\n",
        "print(bert_input[\"attention_mask\"])\n",
        "\n",
        "\n",
        "for i in bert_input[\"input_ids\"][0]:\n",
        "    print(tokenizer.decode(i))\n",
        "\n",
        "print(tokenizer.decode(bert_input[\"input_ids\"][0]))"
      ]
    },
    {
      "cell_type": "code",
      "execution_count": 72,
      "metadata": {
        "id": "_rpYBZyDn_oy"
      },
      "outputs": [
        {
          "name": "stdout",
          "output_type": "stream",
          "text": [
            "Vector representation of 'These are a series of demos, to show how& to use spacy **for** preprocessing tasks!'\n",
            "[ 0.23657905 -0.02994122  0.38747624  0.04338304  0.2302582  -0.46953556\n",
            "  0.28012517  0.25555784 -0.16120914  0.02559497]\n"
          ]
        }
      ],
      "source": [
        "import torch\n",
        "import numpy as np\n",
        "\n",
        "from transformers import BertModel\n",
        "\n",
        "tokenizer = BertTokenizer.from_pretrained(\"bert-base-uncased\")\n",
        "model = BertModel.from_pretrained(\"bert-base-uncased\")\n",
        "\n",
        "\n",
        "def preprocess_text_bert(text: str) -> np.array:\n",
        "    \"\"\"\n",
        "    This function expects an object of type string and returns a numpy array after\n",
        "    tokenizing the text through BertTokenizer and generating vectors using BertModel\n",
        "    \"\"\"\n",
        "    bert_input = tokenizer(text, return_tensors=\"pt\")\n",
        "\n",
        "    with torch.no_grad():\n",
        "        outputs = model(\n",
        "            input_ids=bert_input[\"input_ids\"],\n",
        "            attention_mask=bert_input[\"attention_mask\"],\n",
        "        )\n",
        "        vector = torch.mean(outputs.last_hidden_state, dim=1)\n",
        "\n",
        "    return vector.squeeze().numpy()\n",
        "\n",
        "\n",
        "print(f\"Vector representation of '{sample_text}'\")\n",
        "print(preprocess_text_bert(sample_text)[:10])"
      ]
    },
    {
      "cell_type": "markdown",
      "metadata": {
        "id": "QTCnD7_rjy3k"
      },
      "source": [
        "### Applying Cosine similarity with BERT embeddings to the corpus\n",
        "\n",
        "This execution will take some time.\n"
      ]
    },
    {
      "cell_type": "code",
      "execution_count": 76,
      "metadata": {
        "id": "_FUfz7uMhTGe"
      },
      "outputs": [],
      "source": [
        "train[\"text_processed\"] = train[\"text\"].apply(lambda text: preprocess_text_bert(text))\n",
        "test[\"text_processed\"] = test[\"text\"].apply(lambda text: preprocess_text_bert(text))"
      ]
    },
    {
      "cell_type": "code",
      "execution_count": 77,
      "metadata": {
        "id": "7v2lV6FUmAKO"
      },
      "outputs": [
        {
          "name": "stdout",
          "output_type": "stream",
          "text": [
            "Test Document \n",
            "Techs extend Nikkei #39;s rally Technology shares edged up in Asia on Tuesday, as crude oil prices hovered near \\$44 a barrel and the dollar languished ahead of key US economic data.\n",
            "\n",
            "Most Similar Document \n",
            "Nikkei Up 1.5 Pct, Year-End Rally Eyed  TOKYO (Reuters) - Tokyo stocks posted strong rises by  Friday afternoon as hopes for a seasonal year-end rally and the  imminent inclusion of oil and gas developer INPEX Corp. into  the TOPIX index, spurred buying in a wide range of stocks.\n"
          ]
        }
      ],
      "source": [
        "document1 = test.iloc[2]\n",
        "print(f\"Test Document \\n{document1.text}\\n\")\n",
        "most_similar = find_most_similar_document_cosine(document1[\"text_processed\"])\n",
        "print(f\"Most Similar Document \\n{train.iloc[most_similar].text}\")"
      ]
    },
    {
      "cell_type": "markdown",
      "metadata": {
        "id": "RDt_0ZUH34Zt"
      },
      "source": [
        "### Cosine Distance with BERT embeddings Evaluation\n"
      ]
    },
    {
      "cell_type": "code",
      "execution_count": 78,
      "metadata": {
        "id": "Nt3Gb5Lo4Cxg"
      },
      "outputs": [
        {
          "name": "stdout",
          "output_type": "stream",
          "text": [
            "   precision    recall    fscore\n",
            "0   0.800000  0.842105  0.820513\n",
            "1   1.000000  0.809524  0.894737\n",
            "2   0.684211  0.619048  0.650000\n",
            "3   0.500000  0.666667  0.571429\n"
          ]
        },
        {
          "data": {
            "image/png": "[encoded data removed]",
            "text/plain": [
              "<Figure size 640x480 with 2 Axes>"
            ]
          },
          "metadata": {},
          "output_type": "display_data"
        }
      ],
      "source": [
        "category_found = train[\"category\"].iloc[\n",
        "    test[\"text_processed\"].apply(lambda x: find_most_similar_document_cosine(x))\n",
        "]\n",
        "category_found = category_found.reset_index()\n",
        "test[\"category_found\"] = category_found[\"category\"]\n",
        "\n",
        "cf_matrix = confusion_matrix(test[\"category\"], test[\"category_found\"])\n",
        "\n",
        "precision, recall, fscore, support = precision_recall_fscore_support(\n",
        "    test[\"category\"], test[\"category_found\"]\n",
        ")\n",
        "print(pd.DataFrame({\"precision\": precision, \"recall\": recall, \"fscore\": fscore}))\n",
        "ax = plt.axes()\n",
        "sns.heatmap(\n",
        "    cf_matrix,\n",
        "    annot=True,\n",
        "    xticklabels=[\"World\", \"Sports\", \"Business\", \"Sci/Tech\"],\n",
        "    yticklabels=[\"World\", \"Sports\", \"Business\", \"Sci/Tech\"],\n",
        "    cmap=\"Blues\",\n",
        "    ax=ax,\n",
        ")\n",
        "ax.set_title(\"Heatmap for BERT - Cosine Similarity Results\")\n",
        "ax.set_xlabel(\"Predicted category\")\n",
        "ax.set_ylabel(\"Actual category\")\n",
        "plt.show()"
      ]
    },
    {
      "cell_type": "markdown",
      "metadata": {
        "id": "XZqJ2VeT-Dph"
      },
      "source": [
        "## SBERT Embeddings\n"
      ]
    },
    {
      "cell_type": "markdown",
      "metadata": {
        "id": "4kMTlj4a_xyR"
      },
      "source": [
        "**SBERT**, short for **Sentence-BERT** (https://arxiv.org/pdf/1908.10084.pdf) is a modified architecture of the pre-trained BERT model, incorporating siamese and triplet network architectures to generate semantically meaningful **sentence embeddings**, which can be compared using cosine similarity. Therefore, this model architecture is highly useful in various Natural Language Processing tasks such as Semantic textual similarity calculation, semantic search or paraphrase mining.\n"
      ]
    },
    {
      "cell_type": "code",
      "execution_count": null,
      "metadata": {
        "id": "75ndpBFDWDPk"
      },
      "outputs": [
        {
          "name": "stdout",
          "output_type": "stream",
          "text": [
            "Vector representation of 'These are a series of demos, to show how& to use spacy **for** preprocessing tasks!'\n",
            "[-0.05736241  0.02989369 -0.03810472 -0.04411058 -0.04040003 -0.05502092\n",
            "  0.01938878 -0.04331468 -0.08909785 -0.007048  ]\n"
          ]
        }
      ],
      "source": [
        "from sentence_transformers import SentenceTransformer\n",
        "\n",
        "sbert_model = SentenceTransformer(\"all-MiniLM-L6-v2\")\n",
        "\n",
        "\n",
        "def preprocess_text_sbert(text: str) -> np.array:\n",
        "    \"\"\"\n",
        "    This function expects an object of type string and returns a numpy array after\n",
        "    tokenizing the text through BertTokenizer and generating vectors using BertModel\n",
        "    \"\"\"\n",
        "\n",
        "    embedding = sbert_model.encode(text)\n",
        "    return embedding\n",
        "\n",
        "\n",
        "print(f\"Vector representation of '{sample_text}'\")\n",
        "print(preprocess_text_sbert(sample_text)[:10])"
      ]
    },
    {
      "cell_type": "markdown",
      "metadata": {
        "id": "4ZNqy2CIOutr"
      },
      "source": [
        "### Applying Cosine similarity with SBERT embeddings to the corpus\n"
      ]
    },
    {
      "cell_type": "code",
      "execution_count": 84,
      "metadata": {
        "id": "A3fpd9m6O4YF"
      },
      "outputs": [],
      "source": [
        "train[\"text_processed\"] = train[\"text\"].apply(lambda text: preprocess_text_sbert(text))\n",
        "test[\"text_processed\"] = test[\"text\"].apply(lambda text: preprocess_text_sbert(text))"
      ]
    },
    {
      "cell_type": "code",
      "execution_count": 85,
      "metadata": {
        "id": "7AqedxwDPAcB"
      },
      "outputs": [
        {
          "name": "stdout",
          "output_type": "stream",
          "text": [
            "Test Document \n",
            "Techs extend Nikkei #39;s rally Technology shares edged up in Asia on Tuesday, as crude oil prices hovered near \\$44 a barrel and the dollar languished ahead of key US economic data.\n",
            "\n",
            "Most Similar Document \n",
            "Nikkei Up 1.5 Pct, Year-End Rally Eyed  TOKYO (Reuters) - Tokyo stocks posted strong rises by  Friday afternoon as hopes for a seasonal year-end rally and the  imminent inclusion of oil and gas developer INPEX Corp. into  the TOPIX index, spurred buying in a wide range of stocks.\n"
          ]
        }
      ],
      "source": [
        "document1 = test.iloc[2]\n",
        "print(f\"Test Document \\n{document1.text}\\n\")\n",
        "most_similar = find_most_similar_document_cosine(document1[\"text_processed\"])\n",
        "print(f\"Most Similar Document \\n{train.iloc[most_similar].text}\")"
      ]
    },
    {
      "cell_type": "markdown",
      "metadata": {
        "id": "I_5Qtk8dPNko"
      },
      "source": [
        "### Cosine Distance with SBERT embeddings Evaluation"
      ]
    },
    {
      "cell_type": "code",
      "execution_count": 86,
      "metadata": {
        "id": "xdJ7FVEzPZHC"
      },
      "outputs": [
        {
          "name": "stdout",
          "output_type": "stream",
          "text": [
            "   precision    recall    fscore\n",
            "0   0.772727  0.894737  0.829268\n",
            "1   1.000000  0.904762  0.950000\n",
            "2   0.818182  0.857143  0.837209\n",
            "3   0.846154  0.733333  0.785714\n"
          ]
        },
        {
          "data": {
            "image/png": "[encoded data removed]",
            "text/plain": [
              "<Figure size 640x480 with 2 Axes>"
            ]
          },
          "metadata": {},
          "output_type": "display_data"
        }
      ],
      "source": [
        "category_found = train[\"category\"].iloc[\n",
        "    test[\"text_processed\"].apply(lambda x: find_most_similar_document_cosine(x))\n",
        "]\n",
        "category_found = category_found.reset_index()\n",
        "test[\"category_found\"] = category_found[\"category\"]\n",
        "\n",
        "cf_matrix = confusion_matrix(test[\"category\"], test[\"category_found\"])\n",
        "\n",
        "precision, recall, fscore, support = precision_recall_fscore_support(\n",
        "    test[\"category\"], test[\"category_found\"]\n",
        ")\n",
        "print(pd.DataFrame({\"precision\": precision, \"recall\": recall, \"fscore\": fscore}))\n",
        "ax = plt.axes()\n",
        "sns.heatmap(\n",
        "    cf_matrix,\n",
        "    annot=True,\n",
        "    xticklabels=[\"World\", \"Sports\", \"Business\", \"Sci/Tech\"],\n",
        "    yticklabels=[\"World\", \"Sports\", \"Business\", \"Sci/Tech\"],\n",
        "    cmap=\"Blues\",\n",
        "    ax=ax,\n",
        ")\n",
        "ax.set_title(\"Heatmap for SBERT - Cosine Similarity Results\")\n",
        "ax.set_xlabel(\"Predicted category\")\n",
        "ax.set_ylabel(\"Actual category\")\n",
        "plt.show()"
      ]
    }
  ],
  "metadata": {
    "colab": {
      "provenance": [],
      "toc_visible": true
    },
    "kernelspec": {
      "display_name": ".venv",
      "language": "python",
      "name": "python3"
    },
    "language_info": {
      "codemirror_mode": {
        "name": "ipython",
        "version": 3
      },
      "file_extension": ".py",
      "mimetype": "text/x-python",
      "name": "python",
      "nbconvert_exporter": "python",
      "pygments_lexer": "ipython3",
      "version": "3.12.7"
    }
  },
  "nbformat": 4,
  "nbformat_minor": 0
}
